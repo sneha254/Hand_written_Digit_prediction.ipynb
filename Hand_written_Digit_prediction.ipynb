{
  "nbformat": 4,
  "nbformat_minor": 0,
  "metadata": {
    "colab": {
      "provenance": []
    },
    "kernelspec": {
      "name": "python3",
      "display_name": "Python 3"
    },
    "language_info": {
      "name": "python"
    }
  },
  "cells": [
    {
      "cell_type": "markdown",
      "source": [
        "# ***Hand Written Digit Prediction - classification Analysis***\n"
      ],
      "metadata": {
        "id": "XcMJcldZK57K"
      }
    },
    {
      "cell_type": "markdown",
      "source": [
        "The  digits datsaet consists of 8x8 pixel images of digits. The image attribute of the Dataset store 8x8 arrays of grayscale values for each image. We  will use these arrays to visualize the first 4 images. The target attribute of the dataset stores the digit each image reprsents."
      ],
      "metadata": {
        "id": "svS-76stLCmM"
      }
    },
    {
      "cell_type": "markdown",
      "source": [
        "# ***Import Library*** #"
      ],
      "metadata": {
        "id": "ulYMYseTLzFn"
      }
    },
    {
      "cell_type": "code",
      "source": [
        "import pandas as pd"
      ],
      "metadata": {
        "id": "ItDN_jgSNoBB"
      },
      "execution_count": 3,
      "outputs": []
    },
    {
      "cell_type": "code",
      "source": [
        "import numpy as pd"
      ],
      "metadata": {
        "id": "hxAPnnKcYr_D"
      },
      "execution_count": 4,
      "outputs": []
    },
    {
      "cell_type": "code",
      "source": [
        "import matplotlib.pyplot as plt"
      ],
      "metadata": {
        "id": "z5VEXn_dYwKA"
      },
      "execution_count": 5,
      "outputs": []
    },
    {
      "cell_type": "markdown",
      "source": [
        "#***Import Data***"
      ],
      "metadata": {
        "id": "5M1k-Z5UY-HQ"
      }
    },
    {
      "cell_type": "code",
      "source": [
        "from sklearn.datasets import load_digits"
      ],
      "metadata": {
        "id": "hWNRZa5FZAa5"
      },
      "execution_count": 6,
      "outputs": []
    },
    {
      "cell_type": "code",
      "source": [
        "df = load_digits()"
      ],
      "metadata": {
        "id": "4UUpOlzNZKNY"
      },
      "execution_count": 7,
      "outputs": []
    },
    {
      "cell_type": "code",
      "source": [
        "# prompt: _, axes = plt.subplots(nrows=1, ncol=4, figsize=(10, 3))\n",
        "#  for ax, image, label in zip(axes, df.images, df.target):\n",
        "#      ax.set_axis_off()\n",
        "#      ax.imshow(image, cmap=plt.cm.gray.r, interpolation=\"nearest\")\n",
        "#      ax.set_title(\"Training: %i\" % label)\n",
        "\n",
        "import pandas as pd\n",
        "import numpy as pd\n",
        "import matplotlib.pyplot as plt\n",
        "from sklearn.datasets import load_digits\n",
        "# # Hand Written Digit Prediction - classification Analysis\n",
        "#\n",
        "# The  digits datsaet consists of 8x8 pixel images of digits. The image attribute of the Dataset store 8x8 arrays of grayscale values for each image. We  will use these arrays to visualize the first 4 images. The target attribute of the dataset stores the digit each image reprsents.\n",
        "# # Import Library #\n",
        "# #Import Data\n",
        "df = load_digits()\n",
        "_, axes = plt.subplots(nrows=1, ncols=4, figsize=(10, 3))\n",
        "for ax, image, label in zip(axes, df.images, df.target):\n",
        "  ax.set_axis_off()\n",
        "  ax.imshow(image, cmap=plt.cm.gray_r, interpolation=\"nearest\")\n",
        "  ax.set_title(\"Training: %i\" % label)\n"
      ],
      "metadata": {
        "colab": {
          "base_uri": "https://localhost:8080/",
          "height": 227
        },
        "id": "IsNWBdO7a2q8",
        "outputId": "a1fdfd6b-bbd9-46c9-942d-baa57f23ce46"
      },
      "execution_count": 12,
      "outputs": [
        {
          "output_type": "display_data",
          "data": {
            "text/plain": [
              "<Figure size 1000x300 with 4 Axes>"
            ],
            "image/png": "[encoded data removed]"
          },
          "metadata": {}
        }
      ]
    },
    {
      "cell_type": "markdown",
      "source": [
        "#***Data Processing***"
      ],
      "metadata": {
        "id": "RzS_op1LbRou"
      }
    },
    {
      "cell_type": "markdown",
      "source": [
        "Flatten Image ![lmrin.png](data:image/png;base64,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)"
      ],
      "metadata": {
        "id": "VAiSjevSbbnK"
      }
    },
    {
      "cell_type": "code",
      "source": [
        "df.images.shape"
      ],
      "metadata": {
        "colab": {
          "base_uri": "https://localhost:8080/"
        },
        "id": "HNylicRdcWjB",
        "outputId": "29b059bd-4cf9-4904-9041-007e166b3ca3"
      },
      "execution_count": 13,
      "outputs": [
        {
          "output_type": "execute_result",
          "data": {
            "text/plain": [
              "(1797, 8, 8)"
            ]
          },
          "metadata": {},
          "execution_count": 13
        }
      ]
    },
    {
      "cell_type": "code",
      "source": [
        "df.images[0]"
      ],
      "metadata": {
        "colab": {
          "base_uri": "https://localhost:8080/"
        },
        "id": "RtJO35NVcb0B",
        "outputId": "2427239e-f995-4b7a-8c23-7a2eedb8c6e9"
      },
      "execution_count": 14,
      "outputs": [
        {
          "output_type": "execute_result",
          "data": {
            "text/plain": [
              "array([[ 0.,  0.,  5., 13.,  9.,  1.,  0.,  0.],\n",
              "       [ 0.,  0., 13., 15., 10., 15.,  5.,  0.],\n",
              "       [ 0.,  3., 15.,  2.,  0., 11.,  8.,  0.],\n",
              "       [ 0.,  4., 12.,  0.,  0.,  8.,  8.,  0.],\n",
              "       [ 0.,  5.,  8.,  0.,  0.,  9.,  8.,  0.],\n",
              "       [ 0.,  4., 11.,  0.,  1., 12.,  7.,  0.],\n",
              "       [ 0.,  2., 14.,  5., 10., 12.,  0.,  0.],\n",
              "       [ 0.,  0.,  6., 13., 10.,  0.,  0.,  0.]])"
            ]
          },
          "metadata": {},
          "execution_count": 14
        }
      ]
    },
    {
      "cell_type": "code",
      "source": [
        "df.images[0].shape"
      ],
      "metadata": {
        "colab": {
          "base_uri": "https://localhost:8080/"
        },
        "id": "FyY52rgRcmJR",
        "outputId": "4e3bd97b-ed36-4636-f6e3-9edadc037831"
      },
      "execution_count": 15,
      "outputs": [
        {
          "output_type": "execute_result",
          "data": {
            "text/plain": [
              "(8, 8)"
            ]
          },
          "metadata": {},
          "execution_count": 15
        }
      ]
    },
    {
      "cell_type": "code",
      "source": [
        "len(df.images)"
      ],
      "metadata": {
        "colab": {
          "base_uri": "https://localhost:8080/"
        },
        "id": "yCruXVPlcqxh",
        "outputId": "9b5d70e5-5335-4d70-c996-1c2b8af47e18"
      },
      "execution_count": 16,
      "outputs": [
        {
          "output_type": "execute_result",
          "data": {
            "text/plain": [
              "1797"
            ]
          },
          "metadata": {},
          "execution_count": 16
        }
      ]
    },
    {
      "cell_type": "code",
      "source": [
        "n_samples = len(df.images)\n",
        "data = df.images.reshape((n_samples, -1))"
      ],
      "metadata": {
        "id": "JJHFLxCmcvx6"
      },
      "execution_count": 17,
      "outputs": []
    },
    {
      "cell_type": "code",
      "source": [
        "data[0]"
      ],
      "metadata": {
        "colab": {
          "base_uri": "https://localhost:8080/"
        },
        "id": "nOj6om8qc5OI",
        "outputId": "cba2f99b-d01a-4940-8f5d-d1aeae5b57a8"
      },
      "execution_count": 18,
      "outputs": [
        {
          "output_type": "execute_result",
          "data": {
            "text/plain": [
              "array([ 0.,  0.,  5., 13.,  9.,  1.,  0.,  0.,  0.,  0., 13., 15., 10.,\n",
              "       15.,  5.,  0.,  0.,  3., 15.,  2.,  0., 11.,  8.,  0.,  0.,  4.,\n",
              "       12.,  0.,  0.,  8.,  8.,  0.,  0.,  5.,  8.,  0.,  0.,  9.,  8.,\n",
              "        0.,  0.,  4., 11.,  0.,  1., 12.,  7.,  0.,  0.,  2., 14.,  5.,\n",
              "       10., 12.,  0.,  0.,  0.,  0.,  6., 13., 10.,  0.,  0.,  0.])"
            ]
          },
          "metadata": {},
          "execution_count": 18
        }
      ]
    },
    {
      "cell_type": "code",
      "source": [
        "data.shape"
      ],
      "metadata": {
        "colab": {
          "base_uri": "https://localhost:8080/"
        },
        "id": "el9YfTO2c-Hc",
        "outputId": "951417fc-8b4e-4f22-beea-3aeee1c9e0f5"
      },
      "execution_count": 19,
      "outputs": [
        {
          "output_type": "execute_result",
          "data": {
            "text/plain": [
              "(1797, 64)"
            ]
          },
          "metadata": {},
          "execution_count": 19
        }
      ]
    },
    {
      "cell_type": "markdown",
      "source": [
        "#***Scaling Image Data***"
      ],
      "metadata": {
        "id": "3YJfzqs-dCbi"
      }
    },
    {
      "cell_type": "code",
      "source": [
        "data.min()"
      ],
      "metadata": {
        "colab": {
          "base_uri": "https://localhost:8080/"
        },
        "id": "zyB43KDDdH-z",
        "outputId": "b6cd57f4-ed2f-4418-e969-5c43b3daf912"
      },
      "execution_count": 20,
      "outputs": [
        {
          "output_type": "execute_result",
          "data": {
            "text/plain": [
              "0.0"
            ]
          },
          "metadata": {},
          "execution_count": 20
        }
      ]
    },
    {
      "cell_type": "code",
      "source": [
        "data.max()"
      ],
      "metadata": {
        "colab": {
          "base_uri": "https://localhost:8080/"
        },
        "id": "dGzRQqphdMRp",
        "outputId": "22689356-67ac-4294-86b6-c075edf9e755"
      },
      "execution_count": 21,
      "outputs": [
        {
          "output_type": "execute_result",
          "data": {
            "text/plain": [
              "16.0"
            ]
          },
          "metadata": {},
          "execution_count": 21
        }
      ]
    },
    {
      "cell_type": "code",
      "source": [
        "data = data/16"
      ],
      "metadata": {
        "id": "3Tlw0wEKdSdy"
      },
      "execution_count": 22,
      "outputs": []
    },
    {
      "cell_type": "code",
      "source": [
        "data.min()"
      ],
      "metadata": {
        "colab": {
          "base_uri": "https://localhost:8080/"
        },
        "id": "OKN3k0BEdY-Z",
        "outputId": "41575037-3158-4755-f37e-1a8667bed1be"
      },
      "execution_count": 23,
      "outputs": [
        {
          "output_type": "execute_result",
          "data": {
            "text/plain": [
              "0.0"
            ]
          },
          "metadata": {},
          "execution_count": 23
        }
      ]
    },
    {
      "cell_type": "code",
      "source": [
        "data.max()"
      ],
      "metadata": {
        "colab": {
          "base_uri": "https://localhost:8080/"
        },
        "id": "AltbIXneddBs",
        "outputId": "20b3f282-e43b-4841-d0db-01777d72853c"
      },
      "execution_count": 24,
      "outputs": [
        {
          "output_type": "execute_result",
          "data": {
            "text/plain": [
              "1.0"
            ]
          },
          "metadata": {},
          "execution_count": 24
        }
      ]
    },
    {
      "cell_type": "code",
      "source": [
        "data[0]"
      ],
      "metadata": {
        "colab": {
          "base_uri": "https://localhost:8080/"
        },
        "id": "4UZdBkFFdgXh",
        "outputId": "7075c3b8-cd04-444b-b8e3-f99fc52ef53f"
      },
      "execution_count": 25,
      "outputs": [
        {
          "output_type": "execute_result",
          "data": {
            "text/plain": [
              "array([0.    , 0.    , 0.3125, 0.8125, 0.5625, 0.0625, 0.    , 0.    ,\n",
              "       0.    , 0.    , 0.8125, 0.9375, 0.625 , 0.9375, 0.3125, 0.    ,\n",
              "       0.    , 0.1875, 0.9375, 0.125 , 0.    , 0.6875, 0.5   , 0.    ,\n",
              "       0.    , 0.25  , 0.75  , 0.    , 0.    , 0.5   , 0.5   , 0.    ,\n",
              "       0.    , 0.3125, 0.5   , 0.    , 0.    , 0.5625, 0.5   , 0.    ,\n",
              "       0.    , 0.25  , 0.6875, 0.    , 0.0625, 0.75  , 0.4375, 0.    ,\n",
              "       0.    , 0.125 , 0.875 , 0.3125, 0.625 , 0.75  , 0.    , 0.    ,\n",
              "       0.    , 0.    , 0.375 , 0.8125, 0.625 , 0.    , 0.    , 0.    ])"
            ]
          },
          "metadata": {},
          "execution_count": 25
        }
      ]
    },
    {
      "cell_type": "markdown",
      "source": [
        "#***Train Test Split Data***"
      ],
      "metadata": {
        "id": "BukYUKBXdmPE"
      }
    },
    {
      "cell_type": "code",
      "source": [
        "from sklearn.model_selection import train_test_split"
      ],
      "metadata": {
        "id": "tx3FP6G6drxb"
      },
      "execution_count": 26,
      "outputs": []
    },
    {
      "cell_type": "code",
      "source": [
        "X_train, X_test, y_train, y_test = train_test_split(data, df.target, test_size=0.3)"
      ],
      "metadata": {
        "id": "4NnuQtLIdv9p"
      },
      "execution_count": 27,
      "outputs": []
    },
    {
      "cell_type": "code",
      "source": [
        "X_train.shape, X_test.shape, y_train.shape, y_test.shape"
      ],
      "metadata": {
        "colab": {
          "base_uri": "https://localhost:8080/"
        },
        "id": "eytmMQpqd1yB",
        "outputId": "e66463e7-4897-445c-f8ca-3377ff992ae7"
      },
      "execution_count": 28,
      "outputs": [
        {
          "output_type": "execute_result",
          "data": {
            "text/plain": [
              "((1257, 64), (540, 64), (1257,), (540,))"
            ]
          },
          "metadata": {},
          "execution_count": 28
        }
      ]
    },
    {
      "cell_type": "markdown",
      "source": [
        "#***Random Forest Model***"
      ],
      "metadata": {
        "id": "uZsl0TGjd7iq"
      }
    },
    {
      "cell_type": "code",
      "source": [
        "from sklearn.ensemble import RandomForestClassifier"
      ],
      "metadata": {
        "id": "mbZQe53ReB2y"
      },
      "execution_count": 29,
      "outputs": []
    },
    {
      "cell_type": "code",
      "source": [
        "rf = RandomForestClassifier()"
      ],
      "metadata": {
        "id": "U_EI4OzheF-C"
      },
      "execution_count": 30,
      "outputs": []
    },
    {
      "cell_type": "code",
      "source": [
        "rf.fit(X_train, y_train)"
      ],
      "metadata": {
        "colab": {
          "base_uri": "https://localhost:8080/",
          "height": 75
        },
        "id": "Owa6eUnVeJE2",
        "outputId": "e89626e4-63c5-47c2-f811-dd8b8f4fb87d"
      },
      "execution_count": 31,
      "outputs": [
        {
          "output_type": "execute_result",
          "data": {
            "text/plain": [
              "RandomForestClassifier()"
            ],
            "text/html": [
              "<style>#sk-container-id-1 {color: black;background-color: white;}#sk-container-id-1 pre{padding: 0;}#sk-container-id-1 div.sk-toggleable {background-color: white;}#sk-container-id-1 label.sk-toggleable__label {cursor: pointer;display: block;width: 100%;margin-bottom: 0;padding: 0.3em;box-sizing: border-box;text-align: center;}#sk-container-id-1 label.sk-toggleable__label-arrow:before {content: \"▸\";float: left;margin-right: 0.25em;color: #696969;}#sk-container-id-1 label.sk-toggleable__label-arrow:hover:before {color: black;}#sk-container-id-1 div.sk-estimator:hover label.sk-toggleable__label-arrow:before {color: black;}#sk-container-id-1 div.sk-toggleable__content {max-height: 0;max-width: 0;overflow: hidden;text-align: left;background-color: #f0f8ff;}#sk-container-id-1 div.sk-toggleable__content pre {margin: 0.2em;color: black;border-radius: 0.25em;background-color: #f0f8ff;}#sk-container-id-1 input.sk-toggleable__control:checked~div.sk-toggleable__content {max-height: 200px;max-width: 100%;overflow: auto;}#sk-container-id-1 input.sk-toggleable__control:checked~label.sk-toggleable__label-arrow:before {content: \"▾\";}#sk-container-id-1 div.sk-estimator input.sk-toggleable__control:checked~label.sk-toggleable__label {background-color: #d4ebff;}#sk-container-id-1 div.sk-label input.sk-toggleable__control:checked~label.sk-toggleable__label {background-color: #d4ebff;}#sk-container-id-1 input.sk-hidden--visually {border: 0;clip: rect(1px 1px 1px 1px);clip: rect(1px, 1px, 1px, 1px);height: 1px;margin: -1px;overflow: hidden;padding: 0;position: absolute;width: 1px;}#sk-container-id-1 div.sk-estimator {font-family: monospace;background-color: #f0f8ff;border: 1px dotted black;border-radius: 0.25em;box-sizing: border-box;margin-bottom: 0.5em;}#sk-container-id-1 div.sk-estimator:hover {background-color: #d4ebff;}#sk-container-id-1 div.sk-parallel-item::after {content: \"\";width: 100%;border-bottom: 1px solid gray;flex-grow: 1;}#sk-container-id-1 div.sk-label:hover label.sk-toggleable__label {background-color: #d4ebff;}#sk-container-id-1 div.sk-serial::before {content: \"\";position: absolute;border-left: 1px solid gray;box-sizing: border-box;top: 0;bottom: 0;left: 50%;z-index: 0;}#sk-container-id-1 div.sk-serial {display: flex;flex-direction: column;align-items: center;background-color: white;padding-right: 0.2em;padding-left: 0.2em;position: relative;}#sk-container-id-1 div.sk-item {position: relative;z-index: 1;}#sk-container-id-1 div.sk-parallel {display: flex;align-items: stretch;justify-content: center;background-color: white;position: relative;}#sk-container-id-1 div.sk-item::before, #sk-container-id-1 div.sk-parallel-item::before {content: \"\";position: absolute;border-left: 1px solid gray;box-sizing: border-box;top: 0;bottom: 0;left: 50%;z-index: -1;}#sk-container-id-1 div.sk-parallel-item {display: flex;flex-direction: column;z-index: 1;position: relative;background-color: white;}#sk-container-id-1 div.sk-parallel-item:first-child::after {align-self: flex-end;width: 50%;}#sk-container-id-1 div.sk-parallel-item:last-child::after {align-self: flex-start;width: 50%;}#sk-container-id-1 div.sk-parallel-item:only-child::after {width: 0;}#sk-container-id-1 div.sk-dashed-wrapped {border: 1px dashed gray;margin: 0 0.4em 0.5em 0.4em;box-sizing: border-box;padding-bottom: 0.4em;background-color: white;}#sk-container-id-1 div.sk-label label {font-family: monospace;font-weight: bold;display: inline-block;line-height: 1.2em;}#sk-container-id-1 div.sk-label-container {text-align: center;}#sk-container-id-1 div.sk-container {/* jupyter's `normalize.less` sets `[hidden] { display: none; }` but bootstrap.min.css set `[hidden] { display: none !important; }` so we also need the `!important` here to be able to override the default hidden behavior on the sphinx rendered scikit-learn.org. See: https://github.com/scikit-learn/scikit-learn/issues/21755 */display: inline-block !important;position: relative;}#sk-container-id-1 div.sk-text-repr-fallback {display: none;}</style><div id=\"sk-container-id-1\" class=\"sk-top-container\"><div class=\"sk-text-repr-fallback\"><pre>RandomForestClassifier()</pre><b>In a Jupyter environment, please rerun this cell to show the HTML representation or trust the notebook. <br />On GitHub, the HTML representation is unable to render, please try loading this page with nbviewer.org.</b></div><div class=\"sk-container\" hidden><div class=\"sk-item\"><div class=\"sk-estimator sk-toggleable\"><input class=\"sk-toggleable__control sk-hidden--visually\" id=\"sk-estimator-id-1\" type=\"checkbox\" checked><label for=\"sk-estimator-id-1\" class=\"sk-toggleable__label sk-toggleable__label-arrow\">RandomForestClassifier</label><div class=\"sk-toggleable__content\"><pre>RandomForestClassifier()</pre></div></div></div></div></div>"
            ]
          },
          "metadata": {},
          "execution_count": 31
        }
      ]
    },
    {
      "cell_type": "markdown",
      "source": [
        "#***Predict Test data***"
      ],
      "metadata": {
        "id": "lXia1i9seTxy"
      }
    },
    {
      "cell_type": "code",
      "source": [
        "y_pred = rf.predict(X_test)"
      ],
      "metadata": {
        "id": "J4a3usKdeXlL"
      },
      "execution_count": 32,
      "outputs": []
    },
    {
      "cell_type": "code",
      "source": [
        "y_pred"
      ],
      "metadata": {
        "colab": {
          "base_uri": "https://localhost:8080/"
        },
        "id": "L7eeECp3ebXT",
        "outputId": "e6a4916f-b3a0-4b24-bf46-b5978245d5cf"
      },
      "execution_count": 33,
      "outputs": [
        {
          "output_type": "execute_result",
          "data": {
            "text/plain": [
              "array([2, 9, 6, 2, 6, 1, 1, 0, 9, 9, 3, 3, 5, 9, 1, 3, 0, 3, 0, 7, 3, 3,\n",
              "       9, 8, 3, 6, 9, 8, 7, 9, 1, 6, 0, 3, 1, 1, 6, 8, 9, 4, 2, 2, 4, 2,\n",
              "       2, 2, 6, 9, 4, 3, 5, 4, 0, 2, 3, 5, 7, 1, 9, 5, 9, 2, 8, 3, 5, 7,\n",
              "       1, 7, 0, 2, 4, 5, 2, 9, 6, 4, 0, 1, 1, 7, 4, 8, 5, 8, 1, 0, 6, 7,\n",
              "       7, 3, 5, 4, 7, 5, 1, 0, 2, 1, 7, 5, 5, 9, 4, 5, 0, 3, 5, 3, 4, 5,\n",
              "       1, 8, 5, 9, 7, 6, 4, 1, 3, 7, 1, 0, 7, 5, 3, 0, 2, 2, 5, 2, 6, 7,\n",
              "       1, 6, 1, 9, 8, 0, 2, 8, 9, 2, 6, 3, 8, 9, 0, 7, 5, 4, 0, 7, 6, 8,\n",
              "       5, 0, 6, 5, 6, 5, 0, 7, 3, 1, 2, 2, 0, 9, 2, 6, 2, 1, 6, 2, 1, 3,\n",
              "       3, 1, 9, 8, 6, 3, 7, 8, 7, 8, 3, 4, 5, 2, 1, 1, 7, 2, 9, 2, 7, 0,\n",
              "       5, 0, 4, 9, 7, 6, 2, 8, 8, 7, 6, 3, 7, 5, 9, 1, 1, 5, 0, 4, 9, 5,\n",
              "       6, 7, 9, 9, 3, 0, 3, 4, 6, 6, 9, 8, 3, 8, 6, 5, 5, 8, 2, 4, 6, 5,\n",
              "       6, 6, 6, 9, 4, 1, 7, 8, 8, 4, 3, 7, 6, 2, 8, 8, 4, 2, 1, 2, 5, 2,\n",
              "       3, 2, 8, 9, 6, 3, 3, 8, 9, 2, 4, 2, 0, 2, 2, 0, 5, 8, 9, 6, 9, 6,\n",
              "       3, 1, 3, 4, 7, 6, 7, 7, 7, 0, 2, 8, 1, 7, 3, 4, 0, 9, 3, 2, 0, 1,\n",
              "       8, 7, 1, 5, 4, 2, 4, 7, 1, 4, 9, 2, 6, 2, 7, 8, 4, 0, 1, 1, 8, 9,\n",
              "       5, 0, 7, 1, 8, 1, 6, 3, 3, 9, 2, 6, 2, 6, 2, 4, 1, 5, 2, 0, 5, 9,\n",
              "       0, 6, 1, 3, 5, 1, 1, 9, 6, 1, 8, 9, 5, 2, 3, 7, 2, 2, 7, 8, 9, 1,\n",
              "       0, 6, 2, 9, 1, 2, 0, 6, 0, 8, 9, 4, 6, 1, 3, 2, 8, 8, 0, 2, 5, 6,\n",
              "       9, 1, 7, 2, 1, 9, 0, 9, 3, 4, 6, 3, 8, 4, 9, 2, 9, 2, 1, 9, 1, 3,\n",
              "       0, 5, 3, 5, 1, 1, 0, 5, 7, 8, 5, 2, 3, 8, 7, 7, 0, 5, 6, 5, 5, 6,\n",
              "       9, 0, 0, 3, 1, 0, 8, 6, 7, 3, 5, 7, 9, 1, 2, 7, 7, 4, 3, 9, 7, 7,\n",
              "       1, 5, 3, 1, 6, 4, 5, 9, 2, 4, 5, 3, 3, 6, 6, 0, 8, 2, 4, 3, 6, 2,\n",
              "       7, 8, 4, 8, 2, 1, 9, 2, 0, 5, 1, 4, 3, 1, 8, 1, 6, 2, 6, 5, 0, 1,\n",
              "       7, 9, 1, 3, 0, 5, 8, 1, 9, 7, 3, 9, 8, 7, 7, 7, 3, 8, 5, 0, 7, 0,\n",
              "       6, 0, 1, 3, 6, 6, 3, 4, 5, 9, 3, 3])"
            ]
          },
          "metadata": {},
          "execution_count": 33
        }
      ]
    },
    {
      "cell_type": "markdown",
      "source": [
        "#***Model Accurancy***"
      ],
      "metadata": {
        "id": "ARcPunGVeiEi"
      }
    },
    {
      "cell_type": "code",
      "source": [
        "from sklearn.metrics import confusion_matrix, classification_report"
      ],
      "metadata": {
        "id": "iw6D7Hokel6c"
      },
      "execution_count": 34,
      "outputs": []
    },
    {
      "cell_type": "code",
      "source": [
        "confusion_matrix(y_test, y_pred)"
      ],
      "metadata": {
        "colab": {
          "base_uri": "https://localhost:8080/"
        },
        "id": "Mzr53t6OepvB",
        "outputId": "bd46529f-e0c1-42de-a08d-bd3343727622"
      },
      "execution_count": 35,
      "outputs": [
        {
          "output_type": "execute_result",
          "data": {
            "text/plain": [
              "array([[49,  0,  0,  0,  1,  0,  0,  0,  0,  0],\n",
              "       [ 0, 61,  0,  0,  0,  1,  0,  0,  0,  0],\n",
              "       [ 0,  0, 63,  0,  0,  0,  0,  0,  0,  0],\n",
              "       [ 0,  0,  0, 58,  0,  0,  0,  0,  0,  0],\n",
              "       [ 0,  0,  0,  0, 36,  0,  0,  0,  0,  0],\n",
              "       [ 0,  0,  0,  0,  0, 51,  1,  0,  0,  1],\n",
              "       [ 0,  0,  0,  0,  1,  0, 55,  0,  1,  0],\n",
              "       [ 0,  0,  0,  0,  0,  0,  0, 55,  0,  1],\n",
              "       [ 0,  2,  0,  0,  0,  1,  0,  0, 46,  0],\n",
              "       [ 0,  0,  0,  1,  0,  1,  0,  0,  0, 54]])"
            ]
          },
          "metadata": {},
          "execution_count": 35
        }
      ]
    },
    {
      "cell_type": "code",
      "source": [
        "print(classification_report(y_test, y_pred))"
      ],
      "metadata": {
        "colab": {
          "base_uri": "https://localhost:8080/"
        },
        "id": "VZ0eNQzDevwK",
        "outputId": "6ae9cf1c-4260-47eb-af5c-90601638779a"
      },
      "execution_count": 36,
      "outputs": [
        {
          "output_type": "stream",
          "name": "stdout",
          "text": [
            "              precision    recall  f1-score   support\n",
            "\n",
            "           0       1.00      0.98      0.99        50\n",
            "           1       0.97      0.98      0.98        62\n",
            "           2       1.00      1.00      1.00        63\n",
            "           3       0.98      1.00      0.99        58\n",
            "           4       0.95      1.00      0.97        36\n",
            "           5       0.94      0.96      0.95        53\n",
            "           6       0.98      0.96      0.97        57\n",
            "           7       1.00      0.98      0.99        56\n",
            "           8       0.98      0.94      0.96        49\n",
            "           9       0.96      0.96      0.96        56\n",
            "\n",
            "    accuracy                           0.98       540\n",
            "   macro avg       0.98      0.98      0.98       540\n",
            "weighted avg       0.98      0.98      0.98       540\n",
            "\n"
          ]
        }
      ]
    }
  ]
}